{
  "cells": [
    {
      "cell_type": "code",
      "execution_count": 14,
      "metadata": {
        "colab": {
          "base_uri": "https://localhost:8080/"
        },
        "id": "dSqBLRLRugV_",
        "outputId": "fb5b6474-4c27-42af-8d97-5dbbe23c417c"
      },
      "outputs": [
        {
          "output_type": "stream",
          "name": "stderr",
          "text": [
            "[nltk_data] Downloading package punkt to /root/nltk_data...\n",
            "[nltk_data]   Package punkt is already up-to-date!\n"
          ]
        },
        {
          "output_type": "execute_result",
          "data": {
            "text/plain": [
              "True"
            ]
          },
          "metadata": {},
          "execution_count": 14
        }
      ],
      "source": [
        "import bs4 as bs\n",
        "import urllib.request\n",
        "import nltk\n",
        "from sklearn.metrics.pairwise import cosine_similarity\n",
        "from sklearn.feature_extraction.text import TfidfVectorizer\n",
        "\n",
        "nltk.download(\"punkt\")\n",
        "# nltk.download('wordnet')"
      ]
    },
    {
      "cell_type": "code",
      "execution_count": 15,
      "metadata": {
        "id": "1aph37EL5NLf",
        "colab": {
          "base_uri": "https://localhost:8080/"
        },
        "outputId": "968ad120-2591-4af7-e9b4-1d00fd0870f9"
      },
      "outputs": [
        {
          "output_type": "stream",
          "name": "stdout",
          "text": [
            "\n",
            "the human body is the structure of a human being. it is composed of many different types of cells that together create tissues and subsequently organ systems. they ensure homeostasis and the viability of the human body.\n",
            "it comprises a head, neck, trunk (which includes the thorax and abdomen), arms and hands, legs and feet.\n",
            "the study of the human body involves anatomy, physiology, histology and embryology. the body varies anatomically in known ways. physiology focuses on the systems and organs of the human body and their functions. many systems and mechanisms interact in order to maintain homeostasis, with safe levels of substances such as sugar and oxygen in the blood.\n",
            "the body is studied by health professionals, physiologists, anatomists, and by artists to assist them in their work.\n",
            "the human body is composed of elements including hydrogen, oxygen, carbon, calcium and phosphorus.[1] these elements reside in trillions of cells and non-cellular components of the body.\n",
            "the adult male body is about 60% water for a total water content of some 42 litres (9.2 imp gal; 11 us gal). this is made up of about 19 litres (4.2 imp gal; 5.0 us gal) of extracellular fluid including about 3.2 litres (0.70 imp gal; 0.85 us gal) of blood plasma and about 8.4 litres (1.8 imp gal; 2.2 us gal) of interstitial fluid, and about 23 litres (5.1 imp gal; 6.1 us gal) of fluid inside cells.[2] the content, acidity and composition of the water inside and outside cells is carefully maintained. the main electrolytes in body water outside cells are sodium and chloride, whereas within cells it is potassium and other phosphates.[3]\n",
            "the body contains trillions of cells, the fundamental unit of life.[4] at maturity, there are roughly 30[5]–37[6] trillion cells in the body, an estimate arrived at by totaling the cell numbers of all the organs of the body and cell types. the body is also host to about the same number of non-human cells[5] as well as multicellular organisms which reside in the gastrointestinal tract and on the skin.[7] not all parts of the body are made from cells. cells sit in an extracellular matrix that consists of proteins such as collagen, surrounded by extracellular fluids. of the 70 kg (150 lb) weight of an average human body, nearly 25 kg (55 lb) is non-human cells or non-cellular material such as bone and connective tissue.\n",
            "cells in the body function because of dna. dna sits within the nucleus of a cell. here, parts of dna are copied and sent to the body of the cell via rna.[8] the rna is then used to create proteins which form the basis for cells, their activity, and their products. proteins dictate cell function and gene expression, a cell is able to self-regulate by the amount of proteins produced.[9] however, not all cells have dna; some cells such as mature red blood cells lose their nucleus as they mature.\n",
            "the body consists of many different types of tissue, defined as cells that act with a specialised function.[10] the study of tissues is called histology and often occurs with a microscope. the body consists of four main types of tissues. these are lining cells (epithelia), connective tissue, nerve tissue and muscle tissue.[11]\n",
            "cells that lie on surfaces exposed to the outside world or gastrointestinal tract (epithelia) or internal cavities (endothelium) come in numerous shapes and forms – from single layers of flat cells, to cells with small beating hair-like cilia in the lungs, to column-like cells that line the stomach. endothelial cells are cells that line internal cavities including blood vessels and glands. lining cells regulate what can and can't pass through them, protect internal structures, and function as sensory surfaces.[11]\n",
            "organs, structured collections of cells with a specific function,[12] mostly sit within the body, with the exception of skin. examples include the heart, lungs and liver. many organs reside within cavities within the body. these cavities include the abdomen (which contains the stomach, for example) and pleura, which contains the lungs.\n",
            "the heart is an organ located in the thoracic cavity between the lungs and slightly to the left. it is surrounded by the pericardium which holds it in place in the mediastinum and serves to protect it from blunt trauma, infection and help lubricate the movement of the heart via pericardial fluid.[13] the heart works by pumping blood around the body allowing oxygen, nutrients, waste, hormones and white blood cells to be transported. \n",
            "the heart is composed of two atrium and two ventricles. the primary purpose of the atrium is to allow uninterrupted venous blood flow to the heart during ventricular systole. this allows enough blood to get into the ventricles during atrial systole. a lack of the atrium would cause a decrease in cardiac output of 75%.[14] the purpose of the ventricles is to pump blood to the lungs through the right ventricle and to the rest of the body through the left ventricle.[15]\n",
            "the heart has an electrical conduction system to control the contractions and relaxation of the muscle. it starts in the sinoatrial node traveling through the atria causing them to pump blood into the ventricles. it then travels to the atrioventricular node which makes the signal slow down slightly allowing the ventricles to fill with blood before pumping it out and starting the cycle over again.[16]\n",
            "coronary artery disease is the leading cause of death worldwide, making up 16% of all deaths.[17] it is caused by the buildup of plaque in the coronary arteries supplying the heart, eventually the arteries may become so narrow that not enough blood is able to reach the myocardium,[18] a condition known as myocardial infarction or heart attack, this can cause heart failure or cardiac arrest and eventually death.[19] risk factors for coronary artery disease include obesity, smoking, high cholesterol, high blood pressure, lack of exercise and diabetes.[20] cancer can affect the heart, though it is exceedingly rare and has usually metastasized from another part of the body such as the lungs or breasts. this is because the heart cells quickly stop dividing and all growth occurs through size increase rather than cell division.[21]\n",
            "the gallbladder is a hollow pear shaped organ located posterior to the inferior middle part of the right lobe of the liver. it is variable in shape and size. it stores bile before it is released into the small intestine via the common bile duct to help with digestion of fats. it receives bile from the liver via the cystic duct which connects to the common hepatic duct to form the common bile duct.[22]\n",
            "the gallbladder gets its blood supply from the cystic artery which in most people emerges from the right hepatic artery.[22]\n",
            "gallstones is a common disease in which one or more stones form in the gallbladder or biliary tract. most people are asymptomatic but if a stone blocks the biliary tract it causes a gallbladder attack, symptoms may include sudden pain in the upper right abdomen and or center of the abdomen. nausea and vomiting may also occur. typical treatment is removal of the gallbladder through a procedure called a cholecystectomy.[23][24] having gallstones is a risk factor for gallbladder cancer which although quite uncommon is rapidly fatal if not diagnosed early.[25]\n",
            "the circulatory system consists of the heart and blood vessels (arteries, veins and capillaries). the heart propels the circulation of the blood, which serves as a \"transportation system\" to transfer oxygen, fuel, nutrients, waste products, immune cells and signalling molecules (i.e. hormones) from one part of the body to another. paths of blood circulation within the human body can be divided into two circuits: the pulmonary circuit, which pumps blood to the lungs to receive oxygen and leave carbon dioxide, and the systemic circuit, which carries blood from the heart off to the rest of the body. the blood consists of fluid that carries cells in the circulation, including some that move from tissue to blood vessels and back, as well as the spleen and bone marrow.[26][27][28][29]\n",
            "the digestive system consists of the mouth including the tongue and teeth, esophagus, stomach, (gastrointestinal tract, small and large intestines, and rectum), as well as the liver, pancreas, gallbladder, and salivary glands. it converts food into small, nutritional, non-toxic molecules for distribution and absorption into the body. these molecules take the form of proteins (which are broken down into amino acids), fats, vitamins and minerals (the last of which are mainly ionic rather than molecular). after being swallowed, food moves through the gastrointestinal tract by means of peristalsis: the systematic expansion and contraction of muscles to push food from one area to the next.[30][31]\n",
            "digestion begins in the mouth, which chews food into smaller pieces for easier digestion. then it is swallowed, and moves through the esophagus to the stomach. in the stomach, food is mixed with gastric acids to allow the extraction of nutrients. what is left is called chyme; this then moves into the small intestine, which absorbs the nutrients and water from the chyme. what remains passes on to the large intestine, where it is dried to form feces; these are then stored in the rectum until they are expelled through the anus.[31]\n",
            "the endocrine system consists of the principal endocrine glands: the pituitary, thyroid, adrenals, pancreas, parathyroids, and gonads, but nearly all organs and tissues produce specific endocrine hormones as well. the endocrine hormones serve as signals from one body system to another regarding an enormous array of conditions, and resulting in variety of changes of function.[32]\n",
            "the immune system consists of the white blood cells, the thymus, lymph nodes and lymph channels, which are also part of the lymphatic system. the immune system provides a mechanism for the body to distinguish its own cells and tissues from outside cells and substances and to neutralize or destroy the latter by using specialized proteins such as antibodies, cytokines, and toll-like receptors, among many others.[33]\n",
            "the integumentary system consists of the covering of the body (the skin), including hair and nails as well as other functionally important structures such as the sweat glands and sebaceous glands. the skin provides containment, structure, and protection for other organs, and serves as a major sensory interface with the outside world.[34][35]\n",
            "the lymphatic system extracts, transports and metabolizes lymph, the fluid found in between cells. the lymphatic system is similar to the circulatory system in terms of both its structure and its most basic function, to carry a body fluid.[36]\n",
            "the musculoskeletal system consists of the human skeleton (which includes bones, ligaments, tendons, joints and cartilage) and attached muscles. it gives the body basic structure and the ability for movement. in addition to their structural role, the larger bones in the body contain bone marrow, the site of production of blood cells. also, all bones are major storage sites for calcium and phosphate. this system can be split up into the muscular system and the skeletal system.[37]\n",
            "the nervous system consists of the body's neurons and glial cells, which together form the nerves, ganglia and gray matter which in turn form the brain and related structures. the brain is the organ of thought, emotion, memory, and sensory processing; it serves many aspects of communication and controls various systems and functions. the special senses consist of vision, hearing, taste, and smell. the eyes, ears, tongue, and nose gather information about the body's environment.[38]\n",
            "from a structural perspective, the nervous system is typically subdivided into two component parts: the central nervous system (cns), composed of the brain and the spinal cord; and the peripheral nervous system (pns), composed of the nerves and ganglia outside the brain and spinal cord. the cns is mostly responsible for organizing motion, processing sensory information, thought, memory, cognition and other such functions.[39] it remains a matter of some debate whether the cns directly gives rise to consciousness.[40] the peripheral nervous system (pns) is mostly responsible for gathering information with sensory neurons and directing body movements with motor neurons.[39]\n",
            "from a functional perspective, the nervous system is again typically divided into two component parts: the somatic nervous system (sns) and the autonomic nervous system (ans). the sns is involved in voluntary functions like speaking and sensory processes. the ans is involved in involuntary processes, such as digestion and regulating blood pressure.[41]\n",
            "the nervous system is subject to many different diseases. in epilepsy, abnormal electrical activity in the brain can cause seizures. in multiple sclerosis, the immune system attacks the nerve linings, damaging the nerves' ability to transmit signals. amyotrophic lateral sclerosis (als), also known as lou gehrig's disease, is a motor neuron disease which gradually reduces movement in patients. there are also many other diseases of the nervous system.[39]\n",
            "the primary purpose of the reproductive system is to produce new humans in the form of children and ensure their sexual development so that they can produce new humans too. it is composed of the gonads (testes and ovaries) which produce eggs and sperm cells (gametes) and produce hormones necessary for proper sexual development. the rest of the glands and ducts of the reproductive system are responsible for the transportation and sustaining of the gametes and to nurture the offspring.[42]\n",
            "the reproductive system is first stimulated by the hypothalamus during puberty which causes the ovaries and testes to produce testosterone (male) and estrogen and progesterone (female). male puberty generally occurs between the ages of 13-15 and is characterized by beginning of sperm production and the development of secondary sex characteristics such as increased height and weight, broadened shoulders, pubic and facial hair, voice deepening and muscle development. female puberty generally occurs between the ages of 9-13 and is characterized by ovulation and menstruation. the growth of secondary sex characteristics such as growth of pubic and underarm hair, breast, uterine and vaginal growth, widening hips and increased height and weight also occur during the female puberty process.[43]\n",
            "the external male reproductive system is made up of the penis and the scrotum which is a bag that protects the testis. the penis consists of the glans which is the head of the penis and contains the urethra and urinary meatus the point where urine exits the penis, the rest of the penis is called the shaft or corpus cavernosum and contains most of the urethra. the glans is covered by a fold of skin called the foreskin though this can be removed through circumcision.[43]\n",
            "internally the male reproductive system starts in the testes where hundreds of seminiferous tubules produce sperm which is then stored and matured into spermatozoon in the epididymis. they are then brought through the vas deferens which leads away from the testes to the seminal vesicles where the sperm cells are mixed with a fructose-rich fluid from the seminal vesicles allowing the sperm to stay alive and remain healthy. it is then brought by the ejaculatory duct through the prostate and bulbourethral gland, and mixed with fluids from said glands. the fluid from the prostate helps to neutralize the acidity of the vagina and keep the sperm alive. this mixture of sperm and accessory gland fluids is called semen and is released through the urethra during ejaculation. almost the entire internal male reproductive system works in pairs with two testes, two epididymis, two vas deferens, two seminal vesicles, two ejaculatory ducts, two bulbourethral glands, but only one prostate and urethra.[43][44]\n",
            "the external female reproductive system also called the vulva consists of the mons pubis a fatty mass that covers the pubis, the labia majora (outer lips of the vagina), the labia minora (inner lips of the vagina), the vaginal opening which opens into vagina and is where the penis is inserted during sexual intercourse and children are born, the urethral opening which is the opening for the urethra that carries urine from the bladder and the clitoris which contains the most sensitive nerve endings and in humans has no use other than sexual pleasure. located between the anus and vagina is the perineum.[45][43]\n",
            "internally the female reproductive system contains two ovaries, the uterus, two fallopian tubes and the cervix. at birth a female has about 700,000 oocytes (the immature version of the egg cell) in both ovaries combined, though this degenerates to about 400,000 by the time puberty is reached. this is a lifetime supply as after birth no more oocytes are produced, compared to males where sperm cells are produced during their entire lifetime. during puberty the menstrual cycle begins for the first time, in response to low estrogen and progesterone levels the hypothalamus releases gonadotropin releasing hormone (gnrh). this causes the anterior pituitary gland to release follicle-stimulating hormone (fsh) and luteinizing hormone (lh). fsh stimulates ovarian follicles to grow and one dominant follicle will eventually take over. as it continues to grow it releases more and more estradiol which stimulates lh secretion and suppresses fsh secretion preventing further follicular growth. when lh levels are highest the follicle ruptures releasing the ovum in a process called ovulation where it is then moved to one of the fallopian tubes. after ovulation the portion of the follicle that remains in the ovary is transformed into corpus luteum which continues to produce estrogen and high levels of progesterone. the progesterone causes the endometrium to grow thick preparing it for implantation of a fertilized egg. if fertilization occurs the corpus luteum continues to secrete hormones until the placenta develops enough to secrete the necessary hormones for maintaining pregnancy. eventually the corpus luteum will turn into corpus albicans which is essentially scar tissue. if fertilization fails the corpus luteum will degrade into corpus albicans and stop secreting enough progesterone and estrogen causing the endometrial lining to break resulting in menstruation.[43][46]\n",
            "many diseases affect the reproductive system such as polycystic ovary syndrome (pcos) which is characterized by elevated androgen levels, menstrual irregularities and/or small cysts on one or both of the ovaries. it is a common disease affecting at least 7% of adult women. symptoms include excess body hair, infertility, weight gain, male pattern baldness and irregular menstruation.[47][48]\n",
            "another reproductive disease is testicular torsion, it occurs when the spermatic cord which holds up the testicle wraps around itself cutting off blood flow to the testicle. testicular torsion is a medical emergency and can result in testicular death or infertility if not treated immediately by physically unwrapping the spermatic cord. if the testicle has suffered severe damage, it may need to be surgically in a lateral orchiectomy. the primary symptom of testicular torsion is severe testicular pain at rest, nausea and vomiting may also occur. testicular torsion can occur at any age though it is most common in 12-18 year olds.[49][50]\n",
            "sexually transmitted infections such as syphilis, hiv, chlamydia, hpv and genital warts are spread through sexual intercourse including oral, vaginal and anal sex. many of these infections can be lethal if left untreated though others are mostly harmless.[51][52]\n",
            "cancer can affect many parts of the reproductive system including the penis, testicles, prostate, ovaries, cervix, vagina, fallopian, uterus and vulva.[53]\n",
            "the respiratory system consists of the nose, nasopharynx, trachea, and lungs. it brings oxygen from the air and excretes carbon dioxide and water back into the air. first, air is pulled through the trachea into the lungs by the diaphragm pushing down, which creates a vacuum. air is briefly stored inside small sacs known as alveoli (sing.: alveolus) before being expelled from the lungs when the diaphragm contracts again. each alveolus is surrounded by capillaries carrying deoxygenated blood, which absorbs oxygen out of the air and into the bloodstream.[54][55]\n",
            "for the respiratory system to function properly, there need to be as few impediments as possible to the movement of air within the lungs. inflammation of the lungs and excess mucus are common sources of breathing difficulties.[55] in asthma, the respiratory system is persistently inflamed, causing wheezing and/or shortness of breath. pneumonia occurs through infection of the alveoli, and may be caused by tuberculosis. emphysema, commonly a result of smoking, is caused by damage to connections between the alveoli.[56]\n",
            "the urinary system consists of the two kidneys, two ureters, bladder, and urethra. it removes waste materials from the blood through urine, which carries a variety of waste molecules and excess ions and water out of the body.\n",
            "first, the kidneys filter the blood through their respective nephrons, removing waste products like urea, creatinine and maintaining the proper balance of electrolytes and turning the waste products into urine by combining them with water from the blood.[57] the kidneys filter about 150 quarts (170 liters) of blood daily, but most of it is returned to the blood stream with only 1-2 quarts (1-2 liters) ending up as urine.[58] the urine is brought by the ureters from the kidneys down to the bladder.\n",
            "the smooth muscle lining the ureter walls continuously tighten and relax through a process called peristalsis to force urine away from the kidneys and down into the bladder. small amounts of urine are released into the bladder every 10–15 seconds.\n",
            "the bladder is a hollow balloon shaped organ located in the pelvis. it stores urine until the brain signals it to relax the urinary sphincter and release the urine into the urethra starting urination.[59] a normal bladder can hold up to 16 ounces (half a liter) for 3–5 hours comfortably.\n",
            "numerous diseases affect the urinary system including kidney stones which are formed when materials in the urine concentrate enough to form a solid mass, urinary tract infections which are infections of the urinary tract and can cause pain when urinating, frequent urination and even death if left untreated. renal failure occurs when the kidneys fail to adequately filter waste from the blood and can lead to death if not treated with dialysis or kidney transplantation.[60] cancer can affect the bladder, kidneys, urethra and ureters with the latter two being far more rare.[61]\n",
            "human anatomy is the study of the shape and form of the human body. the human body has four limbs (two arms and two legs), a head and a neck which connect to the torso. the body's shape is determined by a strong skeleton made of bone and cartilage, surrounded by fat (adipose tissue), muscle, connective tissue, organs, and other structures. the spine at the back of the skeleton contains the flexible vertebral column which surrounds the spinal cord, which is a collection of nerve fibres connecting the brain to the rest of the body. nerves connect the spinal cord and brain to the rest of the body. all major bones, muscles, and nerves in the body are named, with the exception of anatomical variations such as sesamoid bones and accessory muscles.\n",
            "blood vessels carry blood throughout the body, which moves because of the beating of the heart. venules and veins collect blood low in oxygen from tissues throughout the body. these collect in progressively larger veins until they reach the body's two largest veins, the superior and inferior vena cava, which drain blood into the right side of the heart. from here, the blood is pumped into the lungs where it receives oxygen and drains back into the left side of the heart. from here, it is pumped into the body's largest artery, the aorta, and then progressively smaller arteries and arterioles until it reaches tissue. here blood passes from small arteries into capillaries, then small veins and the process begins again. blood carries oxygen, waste products, and hormones from one place in the body to another. blood is filtered at the kidneys and liver.\n",
            "the body consists of a number of body cavities, separated areas which house different organ systems. the brain and central nervous system reside in an area protected from the rest of the body by the blood brain barrier. the lungs sit in the pleural cavity. the intestines, liver, and spleen sit in the abdominal cavity.\n",
            "height, weight, shape and other body proportions vary individually and with age and sex. body shape is influenced by the distribution of bones, muscle and fat tissue.[62]\n",
            "human physiology is the study of how the human body functions. this includes the mechanical, physical, bioelectrical, and biochemical functions of humans in good health, from organs to the cells of which they are composed. the human body consists of many interacting systems of organs. these interact to maintain homeostasis, keeping the body in a stable state with safe levels of substances such as sugar and oxygen in the blood.[63]\n",
            "each system contributes to homeostasis, of itself, other systems, and the entire body. some combined systems are referred to by joint names. for example, the nervous system and the endocrine system operate together as the neuroendocrine system. the nervous system receives information from the body, and transmits this to the brain via nerve impulses and neurotransmitters. at the same time, the endocrine system releases hormones, such as to help regulate blood pressure and volume. together, these systems regulate the internal environment of the body, maintaining blood flow, posture, energy supply, temperature, and acid balance (ph).[63]\n",
            "development of the human body is the process of growth to maturity. the process begins with fertilisation, where an egg released from the ovary of a female is penetrated by sperm. the egg then lodges in the uterus, where an embryo and later fetus develop until birth. growth and development occur after birth, and include both physical and psychological development, influenced by genetic, hormonal, environmental and other factors. development and growth continue throughout life, through childhood, adolescence, and through adulthood to old age, and are referred to as the process of aging.\n",
            "health professionals learn about the human body from illustrations, models, and demonstrations. medical and dental students in addition gain practical experience, for example by dissection of cadavers. human anatomy, physiology, and biochemistry are basic medical sciences, generally taught to medical students in their first year at medical school.[64][65][66]\n",
            "anatomy has served the visual arts since ancient greek times, when the 5th century bc sculptor polykleitos wrote his canon on the ideal proportions of the male nude.[67] in the italian renaissance, artists from piero della francesca (c. 1415–1492) onwards, including leonardo da vinci (1452–1519) and his collaborator luca pacioli (c. 1447–1517), learnt and wrote about the rules of art, including visual perspective and the proportions of the human body.[68]\n",
            "in ancient greece, the hippocratic corpus described the anatomy of the skeleton and muscles.[69] the 2nd century physician galen of pergamum compiled classical knowledge of anatomy into a text that was used throughout the middle ages.[70] in the renaissance, andreas vesalius (1514–1564) pioneered the modern study of human anatomy by dissection, writing the influential book de humani corporis fabrica.[71][72] anatomy advanced further with the invention of the microscope and the study of the cellular structure of tissues and organs.[73] modern anatomy uses techniques such as magnetic resonance imaging, computed tomography, fluoroscopy and ultrasound imaging to study the body in unprecedented detail.[74]\n",
            "the study of human physiology began with hippocrates in ancient greece, around 420 bce, and with aristotle (384–322 bce) who applied critical thinking and emphasis on the relationship between structure and function. galen (ca. 126–199) was the first to use experiments to probe the body's functions.[75] the term physiology was introduced by the french physician jean fernel (1497–1558).[76] in the 17th century, william harvey (1578–1657) described the circulatory system, pioneering the combination of close observation with careful experiment.[77] in the 19th century, physiological knowledge began to accumulate at a rapid rate with the cell theory of matthias schleiden and theodor schwann in 1838, that organisms are made up of cells.[76] claude bernard (1813–1878) created the concept of the milieu interieur (internal environment), which walter cannon (1871–1945) later said was regulated to a steady state in homeostasis. in the 20th century, the physiologists knut schmidt-nielsen and george bartholomew extended their studies to comparative physiology and ecophysiology.[78] most recently, evolutionary physiology has become a distinct subdiscipline.[79]\n",
            "\n"
          ]
        }
      ],
      "source": [
        "#Open the cat web data page\n",
        "organ_data = urllib.request.urlopen('https://en.wikipedia.org/wiki/Human_body').read()\n",
        "#Find all the paragraph html from the web page\n",
        "organ_data_paragraphs  = bs.BeautifulSoup(organ_data,'lxml').find_all('p')\n",
        "#Creating the corpus of all the web page paragraphs\n",
        "organ_data_text = ''\n",
        "#Creating lower text corpus of cat paragraphs\n",
        "i = 0\n",
        "for p in organ_data_paragraphs:\n",
        "    organ_data_text += p.text.lower()\n",
        "print((organ_data_text))"
      ]
    },
    {
      "cell_type": "code",
      "execution_count": 16,
      "metadata": {
        "id": "iJmCooGNBay_",
        "colab": {
          "base_uri": "https://localhost:8080/",
          "height": 157
        },
        "outputId": "188100fd-224d-4eda-89fa-f97c6ea805f6"
      },
      "outputs": [
        {
          "output_type": "execute_result",
          "data": {
            "text/plain": [
              "'\\nthe human body is the structure of a human being. it is composed of many different types of cells that together create tissues and subsequently organ systems. they ensure homeostasis and the viability of the human body.\\nit comprises a head, neck, trunk (which includes the thorax and abdomen), arms and hands, legs and feet.\\nthe study of the human body involves anatomy, physiology, histology and embryology. the body varies anatomically in known ways. physiology focuses on the systems and organs of the human body and their functions. many systems and mechanisms interact in order to maintain homeostasis, with safe levels of substances such as sugar and oxygen in the blood.\\nthe body is studied by health professionals, physiologists, anatomists, and by artists to assist them in their work.\\nthe human body is composed of elements including hydrogen, oxygen, carbon, calcium and phosphorus.[1] these elements reside in trillions of cells and non-cellular components of the body.\\nthe adult male body is about 60% water for a total water content of some 42 litres (9.2\\xa0imp\\xa0gal; 11\\xa0us\\xa0gal). this is made up of about 19 litres (4.2\\xa0imp\\xa0gal; 5.0\\xa0us\\xa0gal) of extracellular fluid including about 3.2 litres (0.70\\xa0imp\\xa0gal; 0.85\\xa0us\\xa0gal) of blood plasma and about 8.4 litres (1.8\\xa0imp\\xa0gal; 2.2\\xa0us\\xa0gal) of interstitial fluid, and about 23 litres (5.1\\xa0imp\\xa0gal; 6.1\\xa0us\\xa0gal) of fluid inside cells.[2] the content, acidity and composition of the water inside and outside cells is carefully maintained. the main electrolytes in body water outside cells are sodium and chloride, whereas within cells it is potassium and other phosphates.[3]\\nthe body contains trillions of cells, the fundamental unit of life.[4] at maturity, there are roughly 30[5]–37[6]\\xa0trillion cells in the body, an estimate arrived at by totaling the cell numbers of all the organs of the body and cell types. the body is also host to about the same number of non-human cells[5] as well as multicellular organisms which reside in the gastrointestinal tract and on the skin.[7] not all parts of the body are made from cells. cells sit in an extracellular matrix that consists of proteins such as collagen, surrounded by extracellular fluids. of the 70\\xa0kg (150\\xa0lb) weight of an average human body, nearly 25\\xa0kg (55\\xa0lb) is non-human cells or non-cellular material such as bone and connective tissue.\\ncells in the body function because of dna. dna sits within the nucleus of a cell. here, parts of dna are copied and sent to the body of the cell via rna.[8] the rna is then used to create proteins which form the basis for cells, their activity, and their products. proteins dictate cell function and gene expression, a cell is able to self-regulate by the amount of proteins produced.[9] however, not all cells have dna; some cells such as mature red blood cells lose their nucleus as they mature.\\nthe body consists of many different types of tissue, defined as cells that act with a specialised function.[10] the study of tissues is called histology and often occurs with a microscope. the body consists of four main types of tissues. these are lining cells (epithelia), connective tissue, nerve tissue and muscle tissue.[11]\\ncells that lie on surfaces exposed to the outside world or gastrointestinal tract (epithelia) or internal cavities (endothelium) come in numerous shapes and forms – from single layers of flat cells, to cells with small beating hair-like cilia in the lungs, to column-like cells that line the stomach. endothelial cells are cells that line internal cavities including blood vessels and glands. lining cells regulate what can and can\\'t pass through them, protect internal structures, and function as sensory surfaces.[11]\\norgans, structured collections of cells with a specific function,[12] mostly sit within the body, with the exception of skin. examples include the heart, lungs and liver. many organs reside within cavities within the body. these cavities include the abdomen (which contains the stomach, for example) and pleura, which contains the lungs.\\nthe heart is an organ located in the thoracic cavity between the lungs and slightly to the left. it is surrounded by the pericardium which holds it in place in the mediastinum and serves to protect it from blunt trauma, infection and help lubricate the movement of the heart via pericardial fluid.[13] the heart works by pumping blood around the body allowing oxygen, nutrients, waste, hormones and white blood cells to be transported. \\nthe heart is composed of two atrium and two ventricles. the primary purpose of the atrium is to allow uninterrupted venous blood flow to the heart during ventricular systole. this allows enough blood to get into the ventricles during atrial systole. a lack of the atrium would cause a decrease in cardiac output of 75%.[14] the purpose of the ventricles is to pump blood to the lungs through the right ventricle and to the rest of the body through the left ventricle.[15]\\nthe heart has an electrical conduction system to control the contractions and relaxation of the muscle. it starts in the sinoatrial node traveling through the atria causing them to pump blood into the ventricles. it then travels to the atrioventricular node which makes the signal slow down slightly allowing the ventricles to fill with blood before pumping it out and starting the cycle over again.[16]\\ncoronary artery disease is the leading cause of death worldwide, making up 16% of all deaths.[17] it is caused by the buildup of plaque in the coronary arteries supplying the heart, eventually the arteries may become so narrow that not enough blood is able to reach the myocardium,[18] a condition known as myocardial infarction or heart attack, this can cause heart failure or cardiac arrest and eventually death.[19] risk factors for coronary artery disease include obesity, smoking, high cholesterol, high blood pressure, lack of exercise and diabetes.[20] cancer can affect the heart, though it is exceedingly rare and has usually metastasized from another part of the body such as the lungs or breasts. this is because the heart cells quickly stop dividing and all growth occurs through size increase rather than cell division.[21]\\nthe gallbladder is a hollow pear shaped organ located posterior to the inferior middle part of the right lobe of the liver. it is variable in shape and size. it stores bile before it is released into the small intestine via the common bile duct to help with digestion of fats. it receives bile from the liver via the cystic duct which connects to the common hepatic duct to form the common bile duct.[22]\\nthe gallbladder gets its blood supply from the cystic artery which in most people emerges from the right hepatic artery.[22]\\ngallstones is a common disease in which one or more stones form in the gallbladder or biliary tract. most people are asymptomatic but if a stone blocks the biliary tract it causes a gallbladder attack, symptoms may include sudden pain in the upper right abdomen and or center of the abdomen. nausea and vomiting may also occur. typical treatment is removal of the gallbladder through a procedure called a cholecystectomy.[23][24] having gallstones is a risk factor for gallbladder cancer which although quite uncommon is rapidly fatal if not diagnosed early.[25]\\nthe circulatory system consists of the heart and blood vessels (arteries, veins and capillaries). the heart propels the circulation of the blood, which serves as a \"transportation system\" to transfer oxygen, fuel, nutrients, waste products, immune cells and signalling molecules (i.e. hormones) from one part of the body to another. paths of blood circulation within the human body can be divided into two circuits: the pulmonary circuit, which pumps blood to the lungs to receive oxygen and leave carbon dioxide, and the systemic circuit, which carries blood from the heart off to the rest of the body. the blood consists of fluid that carries cells in the circulation, including some that move from tissue to blood vessels and back, as well as the spleen and bone marrow.[26][27][28][29]\\nthe digestive system consists of the mouth including the tongue and teeth, esophagus, stomach, (gastrointestinal tract, small and large intestines, and rectum), as well as the liver, pancreas, gallbladder, and salivary glands. it converts food into small, nutritional, non-toxic molecules for distribution and absorption into the body. these molecules take the form of proteins (which are broken down into amino acids), fats, vitamins and minerals (the last of which are mainly ionic rather than molecular). after being swallowed, food moves through the gastrointestinal tract by means of peristalsis: the systematic expansion and contraction of muscles to push food from one area to the next.[30][31]\\ndigestion begins in the mouth, which chews food into smaller pieces for easier digestion. then it is swallowed, and moves through the esophagus to the stomach. in the stomach, food is mixed with gastric acids to allow the extraction of nutrients. what is left is called chyme; this then moves into the small intestine, which absorbs the nutrients and water from the chyme. what remains passes on to the large intestine, where it is dried to form feces; these are then stored in the rectum until they are expelled through the anus.[31]\\nthe endocrine system consists of the principal endocrine glands: the pituitary, thyroid, adrenals, pancreas, parathyroids, and gonads, but nearly all organs and tissues produce specific endocrine hormones as well. the endocrine hormones serve as signals from one body system to another regarding an enormous array of conditions, and resulting in variety of changes of function.[32]\\nthe immune system consists of the white blood cells, the thymus, lymph nodes and lymph channels, which are also part of the lymphatic system. the immune system provides a mechanism for the body to distinguish its own cells and tissues from outside cells and substances and to neutralize or destroy the latter by using specialized proteins such as antibodies, cytokines, and toll-like receptors, among many others.[33]\\nthe integumentary system consists of the covering of the body (the skin), including hair and nails as well as other functionally important structures such as the sweat glands and sebaceous glands. the skin provides containment, structure, and protection for other organs, and serves as a major sensory interface with the outside world.[34][35]\\nthe lymphatic system extracts, transports and metabolizes lymph, the fluid found in between cells. the lymphatic system is similar to the circulatory system in terms of both its structure and its most basic function, to carry a body fluid.[36]\\nthe musculoskeletal system consists of the human skeleton (which includes bones, ligaments, tendons, joints and cartilage) and attached muscles. it gives the body basic structure and the ability for movement. in addition to their structural role, the larger bones in the body contain bone marrow, the site of production of blood cells. also, all bones are major storage sites for calcium and phosphate. this system can be split up into the muscular system and the skeletal system.[37]\\nthe nervous system consists of the body\\'s neurons and glial cells, which together form the nerves, ganglia and gray matter which in turn form the brain and related structures. the brain is the organ of thought, emotion, memory, and sensory processing; it serves many aspects of communication and controls various systems and functions. the special senses consist of vision, hearing, taste, and smell. the eyes, ears, tongue, and nose gather information about the body\\'s environment.[38]\\nfrom a structural perspective, the nervous system is typically subdivided into two component parts: the central nervous system (cns), composed of the brain and the spinal cord; and the peripheral nervous system (pns), composed of the nerves and ganglia outside the brain and spinal cord. the cns is mostly responsible for organizing motion, processing sensory information, thought, memory, cognition and other such functions.[39] it remains a matter of some debate whether the cns directly gives rise to consciousness.[40] the peripheral nervous system (pns) is mostly responsible for gathering information with sensory neurons and directing body movements with motor neurons.[39]\\nfrom a functional perspective, the nervous system is again typically divided into two component parts: the somatic nervous system (sns) and the autonomic nervous system (ans). the sns is involved in voluntary functions like speaking and sensory processes. the ans is involved in involuntary processes, such as digestion and regulating blood pressure.[41]\\nthe nervous system is subject to many different diseases. in epilepsy, abnormal electrical activity in the brain can cause seizures. in multiple sclerosis, the immune system attacks the nerve linings, damaging the nerves\\' ability to transmit signals. amyotrophic lateral sclerosis (als), also known as lou gehrig\\'s disease, is a motor neuron disease which gradually reduces movement in patients. there are also many other diseases of the nervous system.[39]\\nthe primary purpose of the reproductive system is to produce new humans in the form of children and ensure their sexual development so that they can produce new humans too. it is composed of the gonads (testes and ovaries) which produce eggs and sperm cells (gametes) and produce hormones necessary for proper sexual development. the rest of the glands and ducts of the reproductive system are responsible for the transportation and sustaining of the gametes and to nurture the offspring.[42]\\nthe reproductive system is first stimulated by the hypothalamus during puberty which causes the ovaries and testes to produce testosterone (male) and estrogen and progesterone (female). male puberty generally occurs between the ages of 13-15 and is characterized by beginning of sperm production and the development of secondary sex characteristics such as increased height and weight, broadened shoulders, pubic and facial hair, voice deepening and muscle development. female puberty generally occurs between the ages of 9-13 and is characterized by ovulation and menstruation. the growth of secondary sex characteristics such as growth of pubic and underarm hair, breast, uterine and vaginal growth, widening hips and increased height and weight also occur during the female puberty process.[43]\\nthe external male reproductive system is made up of the penis and the scrotum which is a bag that protects the testis. the penis consists of the glans which is the head of the penis and contains the urethra and urinary meatus the point where urine exits the penis, the rest of the penis is called the shaft or corpus cavernosum and contains most of the urethra. the glans is covered by a fold of skin called the foreskin though this can be removed through circumcision.[43]\\ninternally the male reproductive system starts in the testes where hundreds of seminiferous tubules produce sperm which is then stored and matured into spermatozoon in the epididymis. they are then brought through the vas deferens which leads away from the testes to the seminal vesicles where the sperm cells are mixed with a fructose-rich fluid from the seminal vesicles allowing the sperm to stay alive and remain healthy. it is then brought by the ejaculatory duct through the prostate and bulbourethral gland, and mixed with fluids from said glands. the fluid from the prostate helps to neutralize the acidity of the vagina and keep the sperm alive. this mixture of sperm and accessory gland fluids is called semen and is released through the urethra during ejaculation. almost the entire internal male reproductive system works in pairs with two testes, two epididymis, two vas deferens, two seminal vesicles, two ejaculatory ducts, two bulbourethral glands, but only one prostate and urethra.[43][44]\\nthe external female reproductive system also called the vulva consists of the mons pubis a fatty mass that covers the pubis, the labia majora (outer lips of the vagina), the labia minora (inner lips of the vagina), the vaginal opening which opens into vagina and is where the penis is inserted during sexual intercourse and children are born, the urethral opening which is the opening for the urethra that carries urine from the bladder and the clitoris which contains the most sensitive nerve endings and in humans has no use other than sexual pleasure. located between the anus and vagina is the perineum.[45][43]\\ninternally the female reproductive system contains two ovaries, the uterus, two fallopian tubes and the cervix. at birth a female has about 700,000 oocytes (the immature version of the egg cell) in both ovaries combined, though this degenerates to about 400,000 by the time puberty is reached. this is a lifetime supply as after birth no more oocytes are produced, compared to males where sperm cells are produced during their entire lifetime. during puberty the menstrual cycle begins for the first time, in response to low estrogen and progesterone levels the hypothalamus releases gonadotropin releasing hormone (gnrh). this causes the anterior pituitary gland to release follicle-stimulating hormone (fsh) and luteinizing hormone (lh). fsh stimulates ovarian follicles to grow and one dominant follicle will eventually take over. as it continues to grow it releases more and more estradiol which stimulates lh secretion and suppresses fsh secretion preventing further follicular growth. when lh levels are highest the follicle ruptures releasing the ovum in a process called ovulation where it is then moved to one of the fallopian tubes. after ovulation the portion of the follicle that remains in the ovary is transformed into corpus luteum which continues to produce estrogen and high levels of progesterone. the progesterone causes the endometrium to grow thick preparing it for implantation of a fertilized egg. if fertilization occurs the corpus luteum continues to secrete hormones until the placenta develops enough to secrete the necessary hormones for maintaining pregnancy. eventually the corpus luteum will turn into corpus albicans which is essentially scar tissue. if fertilization fails the corpus luteum will degrade into corpus albicans and stop secreting enough progesterone and estrogen causing the endometrial lining to break resulting in menstruation.[43][46]\\nmany diseases affect the reproductive system such as polycystic ovary syndrome (pcos) which is characterized by elevated androgen levels, menstrual irregularities and/or small cysts on one or both of the ovaries. it is a common disease affecting at least 7% of adult women. symptoms include excess body hair, infertility, weight gain, male pattern baldness and irregular menstruation.[47][48]\\nanother reproductive disease is testicular torsion, it occurs when the spermatic cord which holds up the testicle wraps around itself cutting off blood flow to the testicle. testicular torsion is a medical emergency and can result in testicular death or infertility if not treated immediately by physically unwrapping the spermatic cord. if the testicle has suffered severe damage, it may need to be surgically in a lateral orchiectomy. the primary symptom of testicular torsion is severe testicular pain at rest, nausea and vomiting may also occur. testicular torsion can occur at any age though it is most common in 12-18 year olds.[49][50]\\nsexually transmitted infections such as syphilis, hiv, chlamydia, hpv and genital warts are spread through sexual intercourse including oral, vaginal and anal sex. many of these infections can be lethal if left untreated though others are mostly harmless.[51][52]\\ncancer can affect many parts of the reproductive system including the penis, testicles, prostate, ovaries, cervix, vagina, fallopian, uterus and vulva.[53]\\nthe respiratory system consists of the nose, nasopharynx, trachea, and lungs. it brings oxygen from the air and excretes carbon dioxide and water back into the air. first, air is pulled through the trachea into the lungs by the diaphragm pushing down, which creates a vacuum. air is briefly stored inside small sacs known as alveoli (sing.: alveolus) before being expelled from the lungs when the diaphragm contracts again. each alveolus is surrounded by capillaries carrying deoxygenated blood, which absorbs oxygen out of the air and into the bloodstream.[54][55]\\nfor the respiratory system to function properly, there need to be as few impediments as possible to the movement of air within the lungs. inflammation of the lungs and excess mucus are common sources of breathing difficulties.[55] in asthma, the respiratory system is persistently inflamed, causing wheezing and/or shortness of breath. pneumonia occurs through infection of the alveoli, and may be caused by tuberculosis. emphysema, commonly a result of smoking, is caused by damage to connections between the alveoli.[56]\\nthe urinary system consists of the two kidneys, two ureters, bladder, and urethra. it removes waste materials from the blood through urine, which carries a variety of waste molecules and excess ions and water out of the body.\\nfirst, the kidneys filter the blood through their respective nephrons, removing waste products like urea, creatinine and maintaining the proper balance of electrolytes and turning the waste products into urine by combining them with water from the blood.[57] the kidneys filter about 150 quarts (170 liters) of blood daily, but most of it is returned to the blood stream with only 1-2 quarts (1-2 liters) ending up as urine.[58] the urine is brought by the ureters from the kidneys down to the bladder.\\nthe smooth muscle lining the ureter walls continuously tighten and relax through a process called peristalsis to force urine away from the kidneys and down into the bladder. small amounts of urine are released into the bladder every 10–15 seconds.\\nthe bladder is a hollow balloon shaped organ located in the pelvis. it stores urine until the brain signals it to relax the urinary sphincter and release the urine into the urethra starting urination.[59] a normal bladder can hold up to 16 ounces (half a liter) for 3–5 hours comfortably.\\nnumerous diseases affect the urinary system including kidney stones which are formed when materials in the urine concentrate enough to form a solid mass, urinary tract infections which are infections of the urinary tract and can cause pain when urinating, frequent urination and even death if left untreated. renal failure occurs when the kidneys fail to adequately filter waste from the blood and can lead to death if not treated with dialysis or kidney transplantation.[60] cancer can affect the bladder, kidneys, urethra and ureters with the latter two being far more rare.[61]\\nhuman anatomy is the study of the shape and form of the human body. the human body has four limbs (two arms and two legs), a head and a neck which connect to the torso. the body\\'s shape is determined by a strong skeleton made of bone and cartilage, surrounded by fat (adipose tissue), muscle, connective tissue, organs, and other structures. the spine at the back of the skeleton contains the flexible vertebral column which surrounds the spinal cord, which is a collection of nerve fibres connecting the brain to the rest of the body. nerves connect the spinal cord and brain to the rest of the body. all major bones, muscles, and nerves in the body are named, with the exception of anatomical variations such as sesamoid bones and accessory muscles.\\nblood vessels carry blood throughout the body, which moves because of the beating of the heart. venules and veins collect blood low in oxygen from tissues throughout the body. these collect in progressively larger veins until they reach the body\\'s two largest veins, the superior and inferior vena cava, which drain blood into the right side of the heart. from here, the blood is pumped into the lungs where it receives oxygen and drains back into the left side of the heart. from here, it is pumped into the body\\'s largest artery, the aorta, and then progressively smaller arteries and arterioles until it reaches tissue. here blood passes from small arteries into capillaries, then small veins and the process begins again. blood carries oxygen, waste products, and hormones from one place in the body to another. blood is filtered at the kidneys and liver.\\nthe body consists of a number of body cavities, separated areas which house different organ systems. the brain and central nervous system reside in an area protected from the rest of the body by the blood brain barrier. the lungs sit in the pleural cavity. the intestines, liver, and spleen sit in the abdominal cavity.\\nheight, weight, shape and other body proportions vary individually and with age and sex. body shape is influenced by the distribution of bones, muscle and fat tissue.[62]\\nhuman physiology is the study of how the human body functions. this includes the mechanical, physical, bioelectrical, and biochemical functions of humans in good health, from organs to the cells of which they are composed. the human body consists of many interacting systems of organs. these interact to maintain homeostasis, keeping the body in a stable state with safe levels of substances such as sugar and oxygen in the blood.[63]\\neach system contributes to homeostasis, of itself, other systems, and the entire body. some combined systems are referred to by joint names. for example, the nervous system and the endocrine system operate together as the neuroendocrine system. the nervous system receives information from the body, and transmits this to the brain via nerve impulses and neurotransmitters. at the same time, the endocrine system releases hormones, such as to help regulate blood pressure and volume. together, these systems regulate the internal environment of the body, maintaining blood flow, posture, energy supply, temperature, and acid balance (ph).[63]\\ndevelopment of the human body is the process of growth to maturity. the process begins with fertilisation, where an egg released from the ovary of a female is penetrated by sperm. the egg then lodges in the uterus, where an embryo and later fetus develop until birth. growth and development occur after birth, and include both physical and psychological development, influenced by genetic, hormonal, environmental and other factors. development and growth continue throughout life, through childhood, adolescence, and through adulthood to old age, and are referred to as the process of aging.\\nhealth professionals learn about the human body from illustrations, models, and demonstrations. medical and dental students in addition gain practical experience, for example by dissection of cadavers. human anatomy, physiology, and biochemistry are basic medical sciences, generally taught to medical students in their first year at medical school.[64][65][66]\\nanatomy has served the visual arts since ancient greek times, when the 5th century bc sculptor polykleitos wrote his canon on the ideal proportions of the male nude.[67] in the italian renaissance, artists from piero della francesca (c. 1415–1492) onwards, including leonardo da vinci (1452–1519) and his collaborator luca pacioli (c. 1447–1517), learnt and wrote about the rules of art, including visual perspective and the proportions of the human body.[68]\\nin ancient greece, the hippocratic corpus described the anatomy of the skeleton and muscles.[69] the 2nd century physician galen of pergamum compiled classical knowledge of anatomy into a text that was used throughout the middle ages.[70] in the renaissance, andreas vesalius (1514–1564) pioneered the modern study of human anatomy by dissection, writing the influential book de humani corporis fabrica.[71][72] anatomy advanced further with the invention of the microscope and the study of the cellular structure of tissues and organs.[73] modern anatomy uses techniques such as magnetic resonance imaging, computed tomography, fluoroscopy and ultrasound imaging to study the body in unprecedented detail.[74]\\nthe study of human physiology began with hippocrates in ancient greece, around 420 bce, and with aristotle (384–322 bce) who applied critical thinking and emphasis on the relationship between structure and function. galen (ca. 126–199) was the first to use experiments to probe the body\\'s functions.[75] the term physiology was introduced by the french physician jean fernel (1497–1558).[76] in the 17th century, william harvey (1578–1657) described the circulatory system, pioneering the combination of close observation with careful experiment.[77] in the 19th century, physiological knowledge began to accumulate at a rapid rate with the cell theory of matthias schleiden and theodor schwann in 1838, that organisms are made up of cells.[76] claude bernard (1813–1878) created the concept of the milieu interieur (internal environment), which walter cannon (1871–1945) later said was regulated to a steady state in homeostasis. in the 20th century, the physiologists knut schmidt-nielsen and george bartholomew extended their studies to comparative physiology and ecophysiology.[78] most recently, evolutionary physiology has become a distinct subdiscipline.[79]\\n'"
            ],
            "application/vnd.google.colaboratory.intrinsic+json": {
              "type": "string"
            }
          },
          "metadata": {},
          "execution_count": 16
        }
      ],
      "source": [
        "organ_data_text"
      ]
    },
    {
      "cell_type": "code",
      "execution_count": 17,
      "metadata": {
        "id": "-u2oOarz0HMw"
      },
      "outputs": [],
      "source": [
        "import re\n",
        "organ_data_text = re.sub(r'\\s+', ' ',re.sub(r'\\[[0-9]*\\]', ' ', organ_data_text))"
      ]
    },
    {
      "cell_type": "code",
      "execution_count": 18,
      "metadata": {
        "id": "v_gunvZy3kPU"
      },
      "outputs": [],
      "source": [
        "organ_sentences = nltk.sent_tokenize(organ_data_text)"
      ]
    },
    {
      "cell_type": "code",
      "execution_count": 19,
      "metadata": {
        "id": "yABcE0ot5poZ",
        "colab": {
          "base_uri": "https://localhost:8080/"
        },
        "outputId": "86a23684-8f14-438a-f0d8-dc6a1be04aa6"
      },
      "outputs": [
        {
          "output_type": "execute_result",
          "data": {
            "text/plain": [
              "[' the human body is the structure of a human being.',\n",
              " 'it is composed of many different types of cells that together create tissues and subsequently organ systems.',\n",
              " 'they ensure homeostasis and the viability of the human body.',\n",
              " 'it comprises a head, neck, trunk (which includes the thorax and abdomen), arms and hands, legs and feet.',\n",
              " 'the study of the human body involves anatomy, physiology, histology and embryology.',\n",
              " 'the body varies anatomically in known ways.',\n",
              " 'physiology focuses on the systems and organs of the human body and their functions.',\n",
              " 'many systems and mechanisms interact in order to maintain homeostasis, with safe levels of substances such as sugar and oxygen in the blood.',\n",
              " 'the body is studied by health professionals, physiologists, anatomists, and by artists to assist them in their work.',\n",
              " 'the human body is composed of elements including hydrogen, oxygen, carbon, calcium and phosphorus.',\n",
              " 'these elements reside in trillions of cells and non-cellular components of the body.',\n",
              " 'the adult male body is about 60% water for a total water content of some 42 litres (9.2 imp gal; 11 us gal).',\n",
              " 'this is made up of about 19 litres (4.2 imp gal; 5.0 us gal) of extracellular fluid including about 3.2 litres (0.70 imp gal; 0.85 us gal) of blood plasma and about 8.4 litres (1.8 imp gal; 2.2 us gal) of interstitial fluid, and about 23 litres (5.1 imp gal; 6.1 us gal) of fluid inside cells.',\n",
              " 'the content, acidity and composition of the water inside and outside cells is carefully maintained.',\n",
              " 'the main electrolytes in body water outside cells are sodium and chloride, whereas within cells it is potassium and other phosphates.',\n",
              " 'the body contains trillions of cells, the fundamental unit of life.',\n",
              " 'at maturity, there are roughly 30 –37 trillion cells in the body, an estimate arrived at by totaling the cell numbers of all the organs of the body and cell types.',\n",
              " 'the body is also host to about the same number of non-human cells as well as multicellular organisms which reside in the gastrointestinal tract and on the skin.',\n",
              " 'not all parts of the body are made from cells.',\n",
              " 'cells sit in an extracellular matrix that consists of proteins such as collagen, surrounded by extracellular fluids.',\n",
              " 'of the 70 kg (150 lb) weight of an average human body, nearly 25 kg (55 lb) is non-human cells or non-cellular material such as bone and connective tissue.',\n",
              " 'cells in the body function because of dna.',\n",
              " 'dna sits within the nucleus of a cell.',\n",
              " 'here, parts of dna are copied and sent to the body of the cell via rna.',\n",
              " 'the rna is then used to create proteins which form the basis for cells, their activity, and their products.',\n",
              " 'proteins dictate cell function and gene expression, a cell is able to self-regulate by the amount of proteins produced.',\n",
              " 'however, not all cells have dna; some cells such as mature red blood cells lose their nucleus as they mature.',\n",
              " 'the body consists of many different types of tissue, defined as cells that act with a specialised function.',\n",
              " 'the study of tissues is called histology and often occurs with a microscope.',\n",
              " 'the body consists of four main types of tissues.',\n",
              " 'these are lining cells (epithelia), connective tissue, nerve tissue and muscle tissue.',\n",
              " 'cells that lie on surfaces exposed to the outside world or gastrointestinal tract (epithelia) or internal cavities (endothelium) come in numerous shapes and forms – from single layers of flat cells, to cells with small beating hair-like cilia in the lungs, to column-like cells that line the stomach.',\n",
              " 'endothelial cells are cells that line internal cavities including blood vessels and glands.',\n",
              " \"lining cells regulate what can and can't pass through them, protect internal structures, and function as sensory surfaces.\",\n",
              " 'organs, structured collections of cells with a specific function, mostly sit within the body, with the exception of skin.',\n",
              " 'examples include the heart, lungs and liver.',\n",
              " 'many organs reside within cavities within the body.',\n",
              " 'these cavities include the abdomen (which contains the stomach, for example) and pleura, which contains the lungs.',\n",
              " 'the heart is an organ located in the thoracic cavity between the lungs and slightly to the left.',\n",
              " 'it is surrounded by the pericardium which holds it in place in the mediastinum and serves to protect it from blunt trauma, infection and help lubricate the movement of the heart via pericardial fluid.',\n",
              " 'the heart works by pumping blood around the body allowing oxygen, nutrients, waste, hormones and white blood cells to be transported.',\n",
              " 'the heart is composed of two atrium and two ventricles.',\n",
              " 'the primary purpose of the atrium is to allow uninterrupted venous blood flow to the heart during ventricular systole.',\n",
              " 'this allows enough blood to get into the ventricles during atrial systole.',\n",
              " 'a lack of the atrium would cause a decrease in cardiac output of 75%.',\n",
              " 'the purpose of the ventricles is to pump blood to the lungs through the right ventricle and to the rest of the body through the left ventricle.',\n",
              " 'the heart has an electrical conduction system to control the contractions and relaxation of the muscle.',\n",
              " 'it starts in the sinoatrial node traveling through the atria causing them to pump blood into the ventricles.',\n",
              " 'it then travels to the atrioventricular node which makes the signal slow down slightly allowing the ventricles to fill with blood before pumping it out and starting the cycle over again.',\n",
              " 'coronary artery disease is the leading cause of death worldwide, making up 16% of all deaths.',\n",
              " 'it is caused by the buildup of plaque in the coronary arteries supplying the heart, eventually the arteries may become so narrow that not enough blood is able to reach the myocardium, a condition known as myocardial infarction or heart attack, this can cause heart failure or cardiac arrest and eventually death.',\n",
              " 'risk factors for coronary artery disease include obesity, smoking, high cholesterol, high blood pressure, lack of exercise and diabetes.',\n",
              " 'cancer can affect the heart, though it is exceedingly rare and has usually metastasized from another part of the body such as the lungs or breasts.',\n",
              " 'this is because the heart cells quickly stop dividing and all growth occurs through size increase rather than cell division.',\n",
              " 'the gallbladder is a hollow pear shaped organ located posterior to the inferior middle part of the right lobe of the liver.',\n",
              " 'it is variable in shape and size.',\n",
              " 'it stores bile before it is released into the small intestine via the common bile duct to help with digestion of fats.',\n",
              " 'it receives bile from the liver via the cystic duct which connects to the common hepatic duct to form the common bile duct.',\n",
              " 'the gallbladder gets its blood supply from the cystic artery which in most people emerges from the right hepatic artery.',\n",
              " 'gallstones is a common disease in which one or more stones form in the gallbladder or biliary tract.',\n",
              " 'most people are asymptomatic but if a stone blocks the biliary tract it causes a gallbladder attack, symptoms may include sudden pain in the upper right abdomen and or center of the abdomen.',\n",
              " 'nausea and vomiting may also occur.',\n",
              " 'typical treatment is removal of the gallbladder through a procedure called a cholecystectomy.',\n",
              " 'having gallstones is a risk factor for gallbladder cancer which although quite uncommon is rapidly fatal if not diagnosed early.',\n",
              " 'the circulatory system consists of the heart and blood vessels (arteries, veins and capillaries).',\n",
              " 'the heart propels the circulation of the blood, which serves as a \"transportation system\" to transfer oxygen, fuel, nutrients, waste products, immune cells and signalling molecules (i.e.',\n",
              " 'hormones) from one part of the body to another.',\n",
              " 'paths of blood circulation within the human body can be divided into two circuits: the pulmonary circuit, which pumps blood to the lungs to receive oxygen and leave carbon dioxide, and the systemic circuit, which carries blood from the heart off to the rest of the body.',\n",
              " 'the blood consists of fluid that carries cells in the circulation, including some that move from tissue to blood vessels and back, as well as the spleen and bone marrow.',\n",
              " 'the digestive system consists of the mouth including the tongue and teeth, esophagus, stomach, (gastrointestinal tract, small and large intestines, and rectum), as well as the liver, pancreas, gallbladder, and salivary glands.',\n",
              " 'it converts food into small, nutritional, non-toxic molecules for distribution and absorption into the body.',\n",
              " 'these molecules take the form of proteins (which are broken down into amino acids), fats, vitamins and minerals (the last of which are mainly ionic rather than molecular).',\n",
              " 'after being swallowed, food moves through the gastrointestinal tract by means of peristalsis: the systematic expansion and contraction of muscles to push food from one area to the next.',\n",
              " 'digestion begins in the mouth, which chews food into smaller pieces for easier digestion.',\n",
              " 'then it is swallowed, and moves through the esophagus to the stomach.',\n",
              " 'in the stomach, food is mixed with gastric acids to allow the extraction of nutrients.',\n",
              " 'what is left is called chyme; this then moves into the small intestine, which absorbs the nutrients and water from the chyme.',\n",
              " 'what remains passes on to the large intestine, where it is dried to form feces; these are then stored in the rectum until they are expelled through the anus.',\n",
              " 'the endocrine system consists of the principal endocrine glands: the pituitary, thyroid, adrenals, pancreas, parathyroids, and gonads, but nearly all organs and tissues produce specific endocrine hormones as well.',\n",
              " 'the endocrine hormones serve as signals from one body system to another regarding an enormous array of conditions, and resulting in variety of changes of function.',\n",
              " 'the immune system consists of the white blood cells, the thymus, lymph nodes and lymph channels, which are also part of the lymphatic system.',\n",
              " 'the immune system provides a mechanism for the body to distinguish its own cells and tissues from outside cells and substances and to neutralize or destroy the latter by using specialized proteins such as antibodies, cytokines, and toll-like receptors, among many others.',\n",
              " 'the integumentary system consists of the covering of the body (the skin), including hair and nails as well as other functionally important structures such as the sweat glands and sebaceous glands.',\n",
              " 'the skin provides containment, structure, and protection for other organs, and serves as a major sensory interface with the outside world.',\n",
              " 'the lymphatic system extracts, transports and metabolizes lymph, the fluid found in between cells.',\n",
              " 'the lymphatic system is similar to the circulatory system in terms of both its structure and its most basic function, to carry a body fluid.',\n",
              " 'the musculoskeletal system consists of the human skeleton (which includes bones, ligaments, tendons, joints and cartilage) and attached muscles.',\n",
              " 'it gives the body basic structure and the ability for movement.',\n",
              " 'in addition to their structural role, the larger bones in the body contain bone marrow, the site of production of blood cells.',\n",
              " 'also, all bones are major storage sites for calcium and phosphate.',\n",
              " 'this system can be split up into the muscular system and the skeletal system.',\n",
              " \"the nervous system consists of the body's neurons and glial cells, which together form the nerves, ganglia and gray matter which in turn form the brain and related structures.\",\n",
              " 'the brain is the organ of thought, emotion, memory, and sensory processing; it serves many aspects of communication and controls various systems and functions.',\n",
              " 'the special senses consist of vision, hearing, taste, and smell.',\n",
              " \"the eyes, ears, tongue, and nose gather information about the body's environment.\",\n",
              " 'from a structural perspective, the nervous system is typically subdivided into two component parts: the central nervous system (cns), composed of the brain and the spinal cord; and the peripheral nervous system (pns), composed of the nerves and ganglia outside the brain and spinal cord.',\n",
              " 'the cns is mostly responsible for organizing motion, processing sensory information, thought, memory, cognition and other such functions.',\n",
              " 'it remains a matter of some debate whether the cns directly gives rise to consciousness.',\n",
              " 'the peripheral nervous system (pns) is mostly responsible for gathering information with sensory neurons and directing body movements with motor neurons.',\n",
              " 'from a functional perspective, the nervous system is again typically divided into two component parts: the somatic nervous system (sns) and the autonomic nervous system (ans).',\n",
              " 'the sns is involved in voluntary functions like speaking and sensory processes.',\n",
              " 'the ans is involved in involuntary processes, such as digestion and regulating blood pressure.',\n",
              " 'the nervous system is subject to many different diseases.',\n",
              " 'in epilepsy, abnormal electrical activity in the brain can cause seizures.',\n",
              " \"in multiple sclerosis, the immune system attacks the nerve linings, damaging the nerves' ability to transmit signals.\",\n",
              " \"amyotrophic lateral sclerosis (als), also known as lou gehrig's disease, is a motor neuron disease which gradually reduces movement in patients.\",\n",
              " 'there are also many other diseases of the nervous system.',\n",
              " 'the primary purpose of the reproductive system is to produce new humans in the form of children and ensure their sexual development so that they can produce new humans too.',\n",
              " 'it is composed of the gonads (testes and ovaries) which produce eggs and sperm cells (gametes) and produce hormones necessary for proper sexual development.',\n",
              " 'the rest of the glands and ducts of the reproductive system are responsible for the transportation and sustaining of the gametes and to nurture the offspring.',\n",
              " 'the reproductive system is first stimulated by the hypothalamus during puberty which causes the ovaries and testes to produce testosterone (male) and estrogen and progesterone (female).',\n",
              " 'male puberty generally occurs between the ages of 13-15 and is characterized by beginning of sperm production and the development of secondary sex characteristics such as increased height and weight, broadened shoulders, pubic and facial hair, voice deepening and muscle development.',\n",
              " 'female puberty generally occurs between the ages of 9-13 and is characterized by ovulation and menstruation.',\n",
              " 'the growth of secondary sex characteristics such as growth of pubic and underarm hair, breast, uterine and vaginal growth, widening hips and increased height and weight also occur during the female puberty process.',\n",
              " 'the external male reproductive system is made up of the penis and the scrotum which is a bag that protects the testis.',\n",
              " 'the penis consists of the glans which is the head of the penis and contains the urethra and urinary meatus the point where urine exits the penis, the rest of the penis is called the shaft or corpus cavernosum and contains most of the urethra.',\n",
              " 'the glans is covered by a fold of skin called the foreskin though this can be removed through circumcision.',\n",
              " 'internally the male reproductive system starts in the testes where hundreds of seminiferous tubules produce sperm which is then stored and matured into spermatozoon in the epididymis.',\n",
              " 'they are then brought through the vas deferens which leads away from the testes to the seminal vesicles where the sperm cells are mixed with a fructose-rich fluid from the seminal vesicles allowing the sperm to stay alive and remain healthy.',\n",
              " 'it is then brought by the ejaculatory duct through the prostate and bulbourethral gland, and mixed with fluids from said glands.',\n",
              " 'the fluid from the prostate helps to neutralize the acidity of the vagina and keep the sperm alive.',\n",
              " 'this mixture of sperm and accessory gland fluids is called semen and is released through the urethra during ejaculation.',\n",
              " 'almost the entire internal male reproductive system works in pairs with two testes, two epididymis, two vas deferens, two seminal vesicles, two ejaculatory ducts, two bulbourethral glands, but only one prostate and urethra.',\n",
              " 'the external female reproductive system also called the vulva consists of the mons pubis a fatty mass that covers the pubis, the labia majora (outer lips of the vagina), the labia minora (inner lips of the vagina), the vaginal opening which opens into vagina and is where the penis is inserted during sexual intercourse and children are born, the urethral opening which is the opening for the urethra that carries urine from the bladder and the clitoris which contains the most sensitive nerve endings and in humans has no use other than sexual pleasure.',\n",
              " 'located between the anus and vagina is the perineum.',\n",
              " 'internally the female reproductive system contains two ovaries, the uterus, two fallopian tubes and the cervix.',\n",
              " 'at birth a female has about 700,000 oocytes (the immature version of the egg cell) in both ovaries combined, though this degenerates to about 400,000 by the time puberty is reached.',\n",
              " 'this is a lifetime supply as after birth no more oocytes are produced, compared to males where sperm cells are produced during their entire lifetime.',\n",
              " 'during puberty the menstrual cycle begins for the first time, in response to low estrogen and progesterone levels the hypothalamus releases gonadotropin releasing hormone (gnrh).',\n",
              " 'this causes the anterior pituitary gland to release follicle-stimulating hormone (fsh) and luteinizing hormone (lh).',\n",
              " 'fsh stimulates ovarian follicles to grow and one dominant follicle will eventually take over.',\n",
              " 'as it continues to grow it releases more and more estradiol which stimulates lh secretion and suppresses fsh secretion preventing further follicular growth.',\n",
              " 'when lh levels are highest the follicle ruptures releasing the ovum in a process called ovulation where it is then moved to one of the fallopian tubes.',\n",
              " 'after ovulation the portion of the follicle that remains in the ovary is transformed into corpus luteum which continues to produce estrogen and high levels of progesterone.',\n",
              " 'the progesterone causes the endometrium to grow thick preparing it for implantation of a fertilized egg.',\n",
              " 'if fertilization occurs the corpus luteum continues to secrete hormones until the placenta develops enough to secrete the necessary hormones for maintaining pregnancy.',\n",
              " 'eventually the corpus luteum will turn into corpus albicans which is essentially scar tissue.',\n",
              " 'if fertilization fails the corpus luteum will degrade into corpus albicans and stop secreting enough progesterone and estrogen causing the endometrial lining to break resulting in menstruation.',\n",
              " 'many diseases affect the reproductive system such as polycystic ovary syndrome (pcos) which is characterized by elevated androgen levels, menstrual irregularities and/or small cysts on one or both of the ovaries.',\n",
              " 'it is a common disease affecting at least 7% of adult women.',\n",
              " 'symptoms include excess body hair, infertility, weight gain, male pattern baldness and irregular menstruation.',\n",
              " 'another reproductive disease is testicular torsion, it occurs when the spermatic cord which holds up the testicle wraps around itself cutting off blood flow to the testicle.',\n",
              " 'testicular torsion is a medical emergency and can result in testicular death or infertility if not treated immediately by physically unwrapping the spermatic cord.',\n",
              " 'if the testicle has suffered severe damage, it may need to be surgically in a lateral orchiectomy.',\n",
              " 'the primary symptom of testicular torsion is severe testicular pain at rest, nausea and vomiting may also occur.',\n",
              " 'testicular torsion can occur at any age though it is most common in 12-18 year olds.',\n",
              " 'sexually transmitted infections such as syphilis, hiv, chlamydia, hpv and genital warts are spread through sexual intercourse including oral, vaginal and anal sex.',\n",
              " 'many of these infections can be lethal if left untreated though others are mostly harmless.',\n",
              " 'cancer can affect many parts of the reproductive system including the penis, testicles, prostate, ovaries, cervix, vagina, fallopian, uterus and vulva.',\n",
              " 'the respiratory system consists of the nose, nasopharynx, trachea, and lungs.',\n",
              " 'it brings oxygen from the air and excretes carbon dioxide and water back into the air.',\n",
              " 'first, air is pulled through the trachea into the lungs by the diaphragm pushing down, which creates a vacuum.',\n",
              " 'air is briefly stored inside small sacs known as alveoli (sing.',\n",
              " ': alveolus) before being expelled from the lungs when the diaphragm contracts again.',\n",
              " 'each alveolus is surrounded by capillaries carrying deoxygenated blood, which absorbs oxygen out of the air and into the bloodstream.',\n",
              " 'for the respiratory system to function properly, there need to be as few impediments as possible to the movement of air within the lungs.',\n",
              " 'inflammation of the lungs and excess mucus are common sources of breathing difficulties.',\n",
              " 'in asthma, the respiratory system is persistently inflamed, causing wheezing and/or shortness of breath.',\n",
              " 'pneumonia occurs through infection of the alveoli, and may be caused by tuberculosis.',\n",
              " 'emphysema, commonly a result of smoking, is caused by damage to connections between the alveoli.',\n",
              " 'the urinary system consists of the two kidneys, two ureters, bladder, and urethra.',\n",
              " 'it removes waste materials from the blood through urine, which carries a variety of waste molecules and excess ions and water out of the body.',\n",
              " 'first, the kidneys filter the blood through their respective nephrons, removing waste products like urea, creatinine and maintaining the proper balance of electrolytes and turning the waste products into urine by combining them with water from the blood.',\n",
              " 'the kidneys filter about 150 quarts (170 liters) of blood daily, but most of it is returned to the blood stream with only 1-2 quarts (1-2 liters) ending up as urine.',\n",
              " 'the urine is brought by the ureters from the kidneys down to the bladder.',\n",
              " 'the smooth muscle lining the ureter walls continuously tighten and relax through a process called peristalsis to force urine away from the kidneys and down into the bladder.',\n",
              " 'small amounts of urine are released into the bladder every 10–15 seconds.',\n",
              " 'the bladder is a hollow balloon shaped organ located in the pelvis.',\n",
              " 'it stores urine until the brain signals it to relax the urinary sphincter and release the urine into the urethra starting urination.',\n",
              " 'a normal bladder can hold up to 16 ounces (half a liter) for 3–5 hours comfortably.',\n",
              " 'numerous diseases affect the urinary system including kidney stones which are formed when materials in the urine concentrate enough to form a solid mass, urinary tract infections which are infections of the urinary tract and can cause pain when urinating, frequent urination and even death if left untreated.',\n",
              " 'renal failure occurs when the kidneys fail to adequately filter waste from the blood and can lead to death if not treated with dialysis or kidney transplantation.',\n",
              " 'cancer can affect the bladder, kidneys, urethra and ureters with the latter two being far more rare.',\n",
              " 'human anatomy is the study of the shape and form of the human body.',\n",
              " 'the human body has four limbs (two arms and two legs), a head and a neck which connect to the torso.',\n",
              " \"the body's shape is determined by a strong skeleton made of bone and cartilage, surrounded by fat (adipose tissue), muscle, connective tissue, organs, and other structures.\",\n",
              " 'the spine at the back of the skeleton contains the flexible vertebral column which surrounds the spinal cord, which is a collection of nerve fibres connecting the brain to the rest of the body.',\n",
              " 'nerves connect the spinal cord and brain to the rest of the body.',\n",
              " 'all major bones, muscles, and nerves in the body are named, with the exception of anatomical variations such as sesamoid bones and accessory muscles.',\n",
              " 'blood vessels carry blood throughout the body, which moves because of the beating of the heart.',\n",
              " 'venules and veins collect blood low in oxygen from tissues throughout the body.',\n",
              " \"these collect in progressively larger veins until they reach the body's two largest veins, the superior and inferior vena cava, which drain blood into the right side of the heart.\",\n",
              " 'from here, the blood is pumped into the lungs where it receives oxygen and drains back into the left side of the heart.',\n",
              " \"from here, it is pumped into the body's largest artery, the aorta, and then progressively smaller arteries and arterioles until it reaches tissue.\",\n",
              " 'here blood passes from small arteries into capillaries, then small veins and the process begins again.',\n",
              " 'blood carries oxygen, waste products, and hormones from one place in the body to another.',\n",
              " 'blood is filtered at the kidneys and liver.',\n",
              " 'the body consists of a number of body cavities, separated areas which house different organ systems.',\n",
              " 'the brain and central nervous system reside in an area protected from the rest of the body by the blood brain barrier.',\n",
              " 'the lungs sit in the pleural cavity.',\n",
              " 'the intestines, liver, and spleen sit in the abdominal cavity.',\n",
              " 'height, weight, shape and other body proportions vary individually and with age and sex.',\n",
              " 'body shape is influenced by the distribution of bones, muscle and fat tissue.',\n",
              " 'human physiology is the study of how the human body functions.',\n",
              " 'this includes the mechanical, physical, bioelectrical, and biochemical functions of humans in good health, from organs to the cells of which they are composed.',\n",
              " 'the human body consists of many interacting systems of organs.',\n",
              " 'these interact to maintain homeostasis, keeping the body in a stable state with safe levels of substances such as sugar and oxygen in the blood.',\n",
              " 'each system contributes to homeostasis, of itself, other systems, and the entire body.',\n",
              " 'some combined systems are referred to by joint names.',\n",
              " 'for example, the nervous system and the endocrine system operate together as the neuroendocrine system.',\n",
              " 'the nervous system receives information from the body, and transmits this to the brain via nerve impulses and neurotransmitters.',\n",
              " 'at the same time, the endocrine system releases hormones, such as to help regulate blood pressure and volume.',\n",
              " 'together, these systems regulate the internal environment of the body, maintaining blood flow, posture, energy supply, temperature, and acid balance (ph).',\n",
              " 'development of the human body is the process of growth to maturity.',\n",
              " 'the process begins with fertilisation, where an egg released from the ovary of a female is penetrated by sperm.',\n",
              " 'the egg then lodges in the uterus, where an embryo and later fetus develop until birth.',\n",
              " 'growth and development occur after birth, and include both physical and psychological development, influenced by genetic, hormonal, environmental and other factors.',\n",
              " 'development and growth continue throughout life, through childhood, adolescence, and through adulthood to old age, and are referred to as the process of aging.',\n",
              " 'health professionals learn about the human body from illustrations, models, and demonstrations.',\n",
              " 'medical and dental students in addition gain practical experience, for example by dissection of cadavers.',\n",
              " 'human anatomy, physiology, and biochemistry are basic medical sciences, generally taught to medical students in their first year at medical school.',\n",
              " 'anatomy has served the visual arts since ancient greek times, when the 5th century bc sculptor polykleitos wrote his canon on the ideal proportions of the male nude.',\n",
              " 'in the italian renaissance, artists from piero della francesca (c. 1415–1492) onwards, including leonardo da vinci (1452–1519) and his collaborator luca pacioli (c. 1447–1517), learnt and wrote about the rules of art, including visual perspective and the proportions of the human body.',\n",
              " 'in ancient greece, the hippocratic corpus described the anatomy of the skeleton and muscles.',\n",
              " 'the 2nd century physician galen of pergamum compiled classical knowledge of anatomy into a text that was used throughout the middle ages.',\n",
              " 'in the renaissance, andreas vesalius (1514–1564) pioneered the modern study of human anatomy by dissection, writing the influential book de humani corporis fabrica.',\n",
              " 'anatomy advanced further with the invention of the microscope and the study of the cellular structure of tissues and organs.',\n",
              " 'modern anatomy uses techniques such as magnetic resonance imaging, computed tomography, fluoroscopy and ultrasound imaging to study the body in unprecedented detail.',\n",
              " 'the study of human physiology began with hippocrates in ancient greece, around 420 bce, and with aristotle (384–322 bce) who applied critical thinking and emphasis on the relationship between structure and function.',\n",
              " 'galen (ca.',\n",
              " \"126–199) was the first to use experiments to probe the body's functions.\",\n",
              " 'the term physiology was introduced by the french physician jean fernel (1497–1558).',\n",
              " 'in the 17th century, william harvey (1578–1657) described the circulatory system, pioneering the combination of close observation with careful experiment.',\n",
              " 'in the 19th century, physiological knowledge began to accumulate at a rapid rate with the cell theory of matthias schleiden and theodor schwann in 1838, that organisms are made up of cells.',\n",
              " 'claude bernard (1813–1878) created the concept of the milieu interieur (internal environment), which walter cannon (1871–1945) later said was regulated to a steady state in homeostasis.',\n",
              " 'in the 20th century, the physiologists knut schmidt-nielsen and george bartholomew extended their studies to comparative physiology and ecophysiology.',\n",
              " 'most recently, evolutionary physiology has become a distinct subdiscipline.']"
            ]
          },
          "metadata": {},
          "execution_count": 19
        }
      ],
      "source": [
        "organ_sentences"
      ]
    },
    {
      "cell_type": "code",
      "execution_count": 20,
      "metadata": {
        "id": "RGULAAR1C0tG"
      },
      "outputs": [],
      "source": [
        "from sklearn.metrics.pairwise import cosine_similarity\n",
        "from sklearn.feature_extraction.text import TfidfVectorizer\n",
        "def chatbot_answer(user_query):\n",
        "    \n",
        "    #Append the query to the sentences list\n",
        "    organ_sentences.append(user_query)\n",
        "    #Create the sentences vector based on the list\n",
        "    vectorizer = TfidfVectorizer()\n",
        "    sentences_vectors = vectorizer.fit_transform(organ_sentences)\n",
        "    \n",
        "    #Measure the cosine similarity and take the second closest index because the first index is the user query\n",
        "    vector_values = cosine_similarity(sentences_vectors[-1], sentences_vectors)\n",
        "    answer = organ_sentences[vector_values.argsort()[0][-2]]\n",
        "    #Final check to make sure there are result present. If all the result are 0, means the text input by us are not captured in the corpus\n",
        "    input_check = vector_values.flatten()\n",
        "    input_check.sort()\n",
        "    \n",
        "    if input_check[-2] == 0:\n",
        "        return \"Any other healthy chat?\"\n",
        "    else: \n",
        "        return answer"
      ]
    },
    {
      "cell_type": "code",
      "execution_count": null,
      "metadata": {
        "id": "MaCZq8P1DoRM"
      },
      "outputs": [],
      "source": [
        "print(\"Hello, I am the Retrieval Based Chatbot. What is your healthy questions?:\")\n",
        "while(True):\n",
        "    query = input().lower()\n",
        "    if query in [\"hi\", \"hey\", \"is anyone there?\", \"hello\", \"hay\", \"hi organo\",\"hey organo\"]:\n",
        "        print(\"Organo Chatbot: \", end=\"\")\n",
        "        print(\"Hey Organo's wholesome welcome!!!\")\n",
        "    elif query not in ['bye', 'good bye', 'take care']:\n",
        "        print(\"Organo Chatbot: \", end=\"\")\n",
        "        print(chatbot_answer(query))\n",
        "        organ_sentences.remove(query)\n",
        "    else:\n",
        "        print(\"See You Again\")\n",
        "        break"
      ]
    }
  ],
  "metadata": {
    "accelerator": "GPU",
    "colab": {
      "collapsed_sections": [],
      "name": "TfIdf-Cosine.ipynb",
      "provenance": []
    },
    "gpuClass": "standard",
    "kernelspec": {
      "display_name": "Python 3",
      "name": "python3"
    },
    "language_info": {
      "name": "python"
    }
  },
  "nbformat": 4,
  "nbformat_minor": 0
}